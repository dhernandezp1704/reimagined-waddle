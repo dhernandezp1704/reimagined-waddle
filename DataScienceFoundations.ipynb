{
  "metadata": {
    "kernelspec": {
      "name": "python",
      "display_name": "Python (Pyodide)",
      "language": "python"
    },
    "language_info": {
      "codemirror_mode": {
        "name": "python",
        "version": 3
      },
      "file_extension": ".py",
      "mimetype": "text/x-python",
      "name": "python",
      "nbconvert_exporter": "python",
      "pygments_lexer": "ipython3",
      "version": "3.8"
    }
  },
  "nbformat_minor": 5,
  "nbformat": 4,
  "cells": [
    {
      "id": "90105fdd-376d-4409-b0e8-aaad42d71809",
      "cell_type": "markdown",
      "source": "# Data Science Tools and Ecosystem",
      "metadata": {}
    },
    {
      "id": "abfa8f40-9f00-4426-b79e-61c525689e64",
      "cell_type": "markdown",
      "source": "In this notebook, Data Science Tools and Ecosystem are summarized.",
      "metadata": {}
    },
    {
      "id": "677cc207-3502-4ae5-9afc-19f15a234816",
      "cell_type": "markdown",
      "source": "Some of the popular languages that Data Scientists use are:\n1. Python\n2. R\n3. SQL\n4. Julia",
      "metadata": {}
    },
    {
      "id": "1fb394f8-f0f7-4167-a3b6-4a227c63e9a1",
      "cell_type": "markdown",
      "source": "Some of the commonly used libraries used by Data Scientists include:\n1. NumPy\n2. Pandas\n3. Matplotlib\n4. Scikit-learn",
      "metadata": {}
    },
    {
      "id": "f7be7692-38de-487d-99d2-ff5d6963c8b3",
      "cell_type": "markdown",
      "source": "| Data Science Tools       |\n|--------------------------|\n| Jupyter                  |\n| RStudio                  |\n| Apache Hadoop            |",
      "metadata": {}
    },
    {
      "id": "872bc3ac-8bf7-40cf-a286-ecd6aedb5545",
      "cell_type": "markdown",
      "source": "### Below are a few examples of evaluating arithmetic expressions in Python.",
      "metadata": {}
    },
    {
      "id": "379476cf-eb55-42ab-b14a-55111cc43f52",
      "cell_type": "code",
      "source": "# This is a simple arithmetic expression to multiply then add integers\nresult = (3 * 4) + 5\nresult",
      "metadata": {
        "trusted": true
      },
      "outputs": [
        {
          "execution_count": 9,
          "output_type": "execute_result",
          "data": {
            "text/plain": "17"
          },
          "metadata": {}
        }
      ],
      "execution_count": 9
    },
    {
      "id": "543fc1ea-85d4-46f2-a873-766104d54b64",
      "cell_type": "code",
      "source": "# This will convert 200 minutes to hours by dividing by 60\nminutes = 200\nhours = minutes / 60\nhours",
      "metadata": {
        "trusted": true
      },
      "outputs": [
        {
          "execution_count": 10,
          "output_type": "execute_result",
          "data": {
            "text/plain": "3.3333333333333335"
          },
          "metadata": {}
        }
      ],
      "execution_count": 10
    },
    {
      "id": "f180bb40-5fbb-4e9e-bb52-33ae5a7f1ba3",
      "cell_type": "markdown",
      "source": "**Objectives:**\n- List popular languages for Data Science\n- Describe commonly used Data Science libraries\n- Understand the tools used in Data Science\n- Provide examples of arithmetic operations in Python",
      "metadata": {}
    },
    {
      "id": "25bff710-cf07-4ac9-ab45-eea214342005",
      "cell_type": "markdown",
      "source": "## Author\nDaniella Hernandez",
      "metadata": {}
    },
    {
      "id": "efa83583-23bf-4bbf-b060-8df9b099a2a0",
      "cell_type": "code",
      "source": "",
      "metadata": {
        "trusted": true
      },
      "outputs": [],
      "execution_count": null
    }
  ]
}